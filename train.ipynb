{
 "cells": [
  {
   "cell_type": "code",
   "execution_count": 1,
   "metadata": {},
   "outputs": [],
   "source": [
    "import pandas as pd\n",
    "import numpy as np\n",
    "%matplotlib inline \n",
    "import matplotlib.pyplot as plt\n",
    "import tensorflow as tf\n",
    "import datetime\n",
    "from tensorflow.keras.models import Sequential\n",
    "from tensorflow.keras.layers import Dense, Conv2D, MaxPooling2D, Flatten, Dropout, BatchNormalization\n",
    "from tensorflow.keras.preprocessing.image import ImageDataGenerator\n",
    "from tensorflow.keras.callbacks import TensorBoard, ReduceLROnPlateau, EarlyStopping\n",
    "from sklearn.preprocessing import LabelBinarizer\n",
    "from sklearn.model_selection import train_test_split"
   ]
  },
  {
   "cell_type": "code",
   "execution_count": 2,
   "metadata": {},
   "outputs": [],
   "source": [
    "train_df = pd.read_csv(\"./datasets/train.csv\")\n",
    "test_df = pd.read_csv(\"./datasets/test.csv\")"
   ]
  },
  {
   "cell_type": "code",
   "execution_count": 3,
   "metadata": {},
   "outputs": [
    {
     "data": {
      "text/html": [
       "<div>\n",
       "<style scoped>\n",
       "    .dataframe tbody tr th:only-of-type {\n",
       "        vertical-align: middle;\n",
       "    }\n",
       "\n",
       "    .dataframe tbody tr th {\n",
       "        vertical-align: top;\n",
       "    }\n",
       "\n",
       "    .dataframe thead th {\n",
       "        text-align: right;\n",
       "    }\n",
       "</style>\n",
       "<table border=\"1\" class=\"dataframe\">\n",
       "  <thead>\n",
       "    <tr style=\"text-align: right;\">\n",
       "      <th></th>\n",
       "      <th>label</th>\n",
       "      <th>pixel1</th>\n",
       "      <th>pixel2</th>\n",
       "      <th>pixel3</th>\n",
       "      <th>pixel4</th>\n",
       "      <th>pixel5</th>\n",
       "      <th>pixel6</th>\n",
       "      <th>pixel7</th>\n",
       "      <th>pixel8</th>\n",
       "      <th>pixel9</th>\n",
       "      <th>...</th>\n",
       "      <th>pixel775</th>\n",
       "      <th>pixel776</th>\n",
       "      <th>pixel777</th>\n",
       "      <th>pixel778</th>\n",
       "      <th>pixel779</th>\n",
       "      <th>pixel780</th>\n",
       "      <th>pixel781</th>\n",
       "      <th>pixel782</th>\n",
       "      <th>pixel783</th>\n",
       "      <th>pixel784</th>\n",
       "    </tr>\n",
       "  </thead>\n",
       "  <tbody>\n",
       "    <tr>\n",
       "      <th>0</th>\n",
       "      <td>3</td>\n",
       "      <td>107</td>\n",
       "      <td>118</td>\n",
       "      <td>127</td>\n",
       "      <td>134</td>\n",
       "      <td>139</td>\n",
       "      <td>143</td>\n",
       "      <td>146</td>\n",
       "      <td>150</td>\n",
       "      <td>153</td>\n",
       "      <td>...</td>\n",
       "      <td>207</td>\n",
       "      <td>207</td>\n",
       "      <td>207</td>\n",
       "      <td>207</td>\n",
       "      <td>206</td>\n",
       "      <td>206</td>\n",
       "      <td>206</td>\n",
       "      <td>204</td>\n",
       "      <td>203</td>\n",
       "      <td>202</td>\n",
       "    </tr>\n",
       "    <tr>\n",
       "      <th>1</th>\n",
       "      <td>6</td>\n",
       "      <td>155</td>\n",
       "      <td>157</td>\n",
       "      <td>156</td>\n",
       "      <td>156</td>\n",
       "      <td>156</td>\n",
       "      <td>157</td>\n",
       "      <td>156</td>\n",
       "      <td>158</td>\n",
       "      <td>158</td>\n",
       "      <td>...</td>\n",
       "      <td>69</td>\n",
       "      <td>149</td>\n",
       "      <td>128</td>\n",
       "      <td>87</td>\n",
       "      <td>94</td>\n",
       "      <td>163</td>\n",
       "      <td>175</td>\n",
       "      <td>103</td>\n",
       "      <td>135</td>\n",
       "      <td>149</td>\n",
       "    </tr>\n",
       "    <tr>\n",
       "      <th>2</th>\n",
       "      <td>2</td>\n",
       "      <td>187</td>\n",
       "      <td>188</td>\n",
       "      <td>188</td>\n",
       "      <td>187</td>\n",
       "      <td>187</td>\n",
       "      <td>186</td>\n",
       "      <td>187</td>\n",
       "      <td>188</td>\n",
       "      <td>187</td>\n",
       "      <td>...</td>\n",
       "      <td>202</td>\n",
       "      <td>201</td>\n",
       "      <td>200</td>\n",
       "      <td>199</td>\n",
       "      <td>198</td>\n",
       "      <td>199</td>\n",
       "      <td>198</td>\n",
       "      <td>195</td>\n",
       "      <td>194</td>\n",
       "      <td>195</td>\n",
       "    </tr>\n",
       "    <tr>\n",
       "      <th>3</th>\n",
       "      <td>2</td>\n",
       "      <td>211</td>\n",
       "      <td>211</td>\n",
       "      <td>212</td>\n",
       "      <td>212</td>\n",
       "      <td>211</td>\n",
       "      <td>210</td>\n",
       "      <td>211</td>\n",
       "      <td>210</td>\n",
       "      <td>210</td>\n",
       "      <td>...</td>\n",
       "      <td>235</td>\n",
       "      <td>234</td>\n",
       "      <td>233</td>\n",
       "      <td>231</td>\n",
       "      <td>230</td>\n",
       "      <td>226</td>\n",
       "      <td>225</td>\n",
       "      <td>222</td>\n",
       "      <td>229</td>\n",
       "      <td>163</td>\n",
       "    </tr>\n",
       "    <tr>\n",
       "      <th>4</th>\n",
       "      <td>13</td>\n",
       "      <td>164</td>\n",
       "      <td>167</td>\n",
       "      <td>170</td>\n",
       "      <td>172</td>\n",
       "      <td>176</td>\n",
       "      <td>179</td>\n",
       "      <td>180</td>\n",
       "      <td>184</td>\n",
       "      <td>185</td>\n",
       "      <td>...</td>\n",
       "      <td>92</td>\n",
       "      <td>105</td>\n",
       "      <td>105</td>\n",
       "      <td>108</td>\n",
       "      <td>133</td>\n",
       "      <td>163</td>\n",
       "      <td>157</td>\n",
       "      <td>163</td>\n",
       "      <td>164</td>\n",
       "      <td>179</td>\n",
       "    </tr>\n",
       "  </tbody>\n",
       "</table>\n",
       "<p>5 rows × 785 columns</p>\n",
       "</div>"
      ],
      "text/plain": [
       "   label  pixel1  pixel2  pixel3  pixel4  pixel5  pixel6  pixel7  pixel8  \\\n",
       "0      3     107     118     127     134     139     143     146     150   \n",
       "1      6     155     157     156     156     156     157     156     158   \n",
       "2      2     187     188     188     187     187     186     187     188   \n",
       "3      2     211     211     212     212     211     210     211     210   \n",
       "4     13     164     167     170     172     176     179     180     184   \n",
       "\n",
       "   pixel9  ...  pixel775  pixel776  pixel777  pixel778  pixel779  pixel780  \\\n",
       "0     153  ...       207       207       207       207       206       206   \n",
       "1     158  ...        69       149       128        87        94       163   \n",
       "2     187  ...       202       201       200       199       198       199   \n",
       "3     210  ...       235       234       233       231       230       226   \n",
       "4     185  ...        92       105       105       108       133       163   \n",
       "\n",
       "   pixel781  pixel782  pixel783  pixel784  \n",
       "0       206       204       203       202  \n",
       "1       175       103       135       149  \n",
       "2       198       195       194       195  \n",
       "3       225       222       229       163  \n",
       "4       157       163       164       179  \n",
       "\n",
       "[5 rows x 785 columns]"
      ]
     },
     "execution_count": 3,
     "metadata": {},
     "output_type": "execute_result"
    }
   ],
   "source": [
    "train_df.head()"
   ]
  },
  {
   "cell_type": "code",
   "execution_count": 4,
   "metadata": {},
   "outputs": [],
   "source": [
    "# Separate label from core dataframe\n",
    "y_train, y_test = train_df[\"label\"], test_df[\"label\"]\n",
    "del train_df[\"label\"]\n",
    "del test_df[\"label\"]\n",
    "\n",
    "x_train, x_test = train_df.values, test_df.values"
   ]
  },
  {
   "cell_type": "code",
   "execution_count": 5,
   "metadata": {},
   "outputs": [
    {
     "data": {
      "text/plain": [
       "(array([[107, 118, 127, ..., 204, 203, 202],\n",
       "        [155, 157, 156, ..., 103, 135, 149],\n",
       "        [187, 188, 188, ..., 195, 194, 195],\n",
       "        ...,\n",
       "        [174, 174, 174, ..., 202, 200, 200],\n",
       "        [177, 181, 184, ...,  64,  87,  93],\n",
       "        [179, 180, 180, ..., 205, 209, 215]]),\n",
       " 0         3\n",
       " 1         6\n",
       " 2         2\n",
       " 3         2\n",
       " 4        13\n",
       "          ..\n",
       " 27450    13\n",
       " 27451    23\n",
       " 27452    18\n",
       " 27453    17\n",
       " 27454    23\n",
       " Name: label, Length: 27455, dtype: int64)"
      ]
     },
     "execution_count": 5,
     "metadata": {},
     "output_type": "execute_result"
    }
   ],
   "source": [
    "x_train, y_train"
   ]
  },
  {
   "cell_type": "code",
   "execution_count": 6,
   "metadata": {},
   "outputs": [
    {
     "data": {
      "text/plain": [
       "(array([[149, 149, 150, ..., 112, 120, 107],\n",
       "        [126, 128, 131, ..., 184, 182, 180],\n",
       "        [ 85,  88,  92, ..., 225, 224, 222],\n",
       "        ...,\n",
       "        [190, 191, 190, ..., 211, 209, 208],\n",
       "        [201, 205, 208, ...,  67,  70,  63],\n",
       "        [173, 174, 173, ..., 195, 193, 192]]),\n",
       " 0        6\n",
       " 1        5\n",
       " 2       10\n",
       " 3        0\n",
       " 4        3\n",
       "         ..\n",
       " 7167     1\n",
       " 7168    12\n",
       " 7169     2\n",
       " 7170     4\n",
       " 7171     2\n",
       " Name: label, Length: 7172, dtype: int64)"
      ]
     },
     "execution_count": 6,
     "metadata": {},
     "output_type": "execute_result"
    }
   ],
   "source": [
    "x_test, y_test"
   ]
  },
  {
   "cell_type": "code",
   "execution_count": 7,
   "metadata": {},
   "outputs": [],
   "source": [
    "# Normalize pixels data\n",
    "x_test = x_test / 255\n",
    "x_train = x_train / 255"
   ]
  },
  {
   "cell_type": "code",
   "execution_count": 8,
   "metadata": {},
   "outputs": [],
   "source": [
    "lb = LabelBinarizer()\n",
    "y_train = lb.fit_transform(y_train)\n",
    "y_test = lb.fit_transform(y_test)"
   ]
  },
  {
   "cell_type": "code",
   "execution_count": 9,
   "metadata": {},
   "outputs": [],
   "source": [
    "# Reshape input data to match convnet input dimension\n",
    "x_train = x_train.reshape(-1, 28, 28, 1)\n",
    "x_test = x_test.reshape(-1, 28, 28, 1)"
   ]
  },
  {
   "cell_type": "code",
   "execution_count": 10,
   "metadata": {},
   "outputs": [],
   "source": [
    "# Split train and validation data\n",
    "x_train, x_val, y_train, y_val = train_test_split(x_train, y_train, test_size=0.25, random_state=42)"
   ]
  },
  {
   "cell_type": "code",
   "execution_count": 11,
   "metadata": {},
   "outputs": [
    {
     "data": {
      "image/png": "[encoded data removed]",
      "text/plain": [
       "<Figure size 432x288 with 1 Axes>"
      ]
     },
     "metadata": {
      "needs_background": "light"
     },
     "output_type": "display_data"
    },
    {
     "data": {
      "image/png": "[encoded data removed]",
      "text/plain": [
       "<Figure size 432x288 with 1 Axes>"
      ]
     },
     "metadata": {
      "needs_background": "light"
     },
     "output_type": "display_data"
    },
    {
     "data": {
      "image/png": "[encoded data removed]",
      "text/plain": [
       "<Figure size 432x288 with 1 Axes>"
      ]
     },
     "metadata": {
      "needs_background": "light"
     },
     "output_type": "display_data"
    },
    {
     "data": {
      "image/png": "[encoded data removed]",
      "text/plain": [
       "<Figure size 432x288 with 1 Axes>"
      ]
     },
     "metadata": {
      "needs_background": "light"
     },
     "output_type": "display_data"
    },
    {
     "data": {
      "image/png": "[encoded data removed]",
      "text/plain": [
       "<Figure size 432x288 with 1 Axes>"
      ]
     },
     "metadata": {
      "needs_background": "light"
     },
     "output_type": "display_data"
    },
    {
     "data": {
      "image/png": "[encoded data removed]",
      "text/plain": [
       "<Figure size 432x288 with 1 Axes>"
      ]
     },
     "metadata": {
      "needs_background": "light"
     },
     "output_type": "display_data"
    },
    {
     "data": {
      "image/png": "[encoded data removed]",
      "text/plain": [
       "<Figure size 432x288 with 1 Axes>"
      ]
     },
     "metadata": {
      "needs_background": "light"
     },
     "output_type": "display_data"
    },
    {
     "data": {
      "image/png": "[encoded data removed]",
      "text/plain": [
       "<Figure size 432x288 with 1 Axes>"
      ]
     },
     "metadata": {
      "needs_background": "light"
     },
     "output_type": "display_data"
    },
    {
     "data": {
      "image/png": "[encoded data removed]",
      "text/plain": [
       "<Figure size 432x288 with 1 Axes>"
      ]
     },
     "metadata": {
      "needs_background": "light"
     },
     "output_type": "display_data"
    },
    {
     "data": {
      "image/png": "[encoded data removed]",
      "text/plain": [
       "<Figure size 432x288 with 1 Axes>"
      ]
     },
     "metadata": {
      "needs_background": "light"
     },
     "output_type": "display_data"
    }
   ],
   "source": [
    "for i in range(10):\n",
    "    plt.imshow(x_train[i], cmap=\"gray\")\n",
    "    plt.show()"
   ]
  },
  {
   "cell_type": "code",
   "execution_count": 12,
   "metadata": {},
   "outputs": [],
   "source": [
    "model = Sequential()\n",
    "\n",
    "model.add(Conv2D(75, (3,3), padding=\"same\", strides=1, input_shape=(28, 28, 1), activation=\"relu\"))\n",
    "model.add(MaxPooling2D(pool_size=(2,2), strides=2, padding=\"same\"))\n",
    "\n",
    "model.add(Conv2D(50, (3,3), padding=\"same\", strides=1, activation=\"relu\"))\n",
    "model.add(MaxPooling2D(pool_size=(2,2), strides=2, padding=\"same\"))\n",
    "\n",
    "model.add(Conv2D(25, (3,3), padding=\"same\", strides=1, activation=\"relu\"))\n",
    "model.add(MaxPooling2D(pool_size=(2,2), strides=2, padding=\"same\"))\n",
    "\n",
    "model.add(Flatten())\n",
    "model.add(Dense(units = 512 , activation = 'relu'))\n",
    "model.add(Dropout(0.3))\n",
    "model.add(Dense(units = 24 , activation = 'softmax'))\n",
    "\n",
    "model.compile(optimizer = 'adam' , loss = 'categorical_crossentropy' , metrics = ['accuracy'])"
   ]
  },
  {
   "cell_type": "code",
   "execution_count": 13,
   "metadata": {},
   "outputs": [
    {
     "name": "stdout",
     "output_type": "stream",
     "text": [
      "Model: \"sequential\"\n",
      "_________________________________________________________________\n",
      "Layer (type)                 Output Shape              Param #   \n",
      "=================================================================\n",
      "conv2d (Conv2D)              (None, 28, 28, 75)        750       \n",
      "_________________________________________________________________\n",
      "max_pooling2d (MaxPooling2D) (None, 14, 14, 75)        0         \n",
      "_________________________________________________________________\n",
      "conv2d_1 (Conv2D)            (None, 14, 14, 50)        33800     \n",
      "_________________________________________________________________\n",
      "max_pooling2d_1 (MaxPooling2 (None, 7, 7, 50)          0         \n",
      "_________________________________________________________________\n",
      "conv2d_2 (Conv2D)            (None, 7, 7, 25)          11275     \n",
      "_________________________________________________________________\n",
      "max_pooling2d_2 (MaxPooling2 (None, 4, 4, 25)          0         \n",
      "_________________________________________________________________\n",
      "flatten (Flatten)            (None, 400)               0         \n",
      "_________________________________________________________________\n",
      "dense (Dense)                (None, 512)               205312    \n",
      "_________________________________________________________________\n",
      "dropout (Dropout)            (None, 512)               0         \n",
      "_________________________________________________________________\n",
      "dense_1 (Dense)              (None, 24)                12312     \n",
      "=================================================================\n",
      "Total params: 263,449\n",
      "Trainable params: 263,449\n",
      "Non-trainable params: 0\n",
      "_________________________________________________________________\n"
     ]
    }
   ],
   "source": [
    "model.summary()"
   ]
  },
  {
   "cell_type": "code",
   "execution_count": 14,
   "metadata": {},
   "outputs": [],
   "source": [
    "# Data augmentation using keras ImageDataGenerator API\n",
    "data_generator = ImageDataGenerator(\n",
    "    featurewise_center=False,\n",
    "    samplewise_center=False,\n",
    "    featurewise_std_normalization=False,\n",
    "    samplewise_std_normalization=False,\n",
    "    zca_whitening=False,\n",
    "    rotation_range=5,\n",
    "    width_shift_range=0.1,\n",
    "    height_shift_range=0.1,\n",
    "    zoom_range=0.1,\n",
    "    channel_shift_range=0.0,\n",
    "    cval=0.0,\n",
    "    horizontal_flip=False,\n",
    "    vertical_flip=False,\n",
    ")"
   ]
  },
  {
   "cell_type": "code",
   "execution_count": 15,
   "metadata": {},
   "outputs": [],
   "source": [
    "data_generator.fit(x_train)"
   ]
  },
  {
   "cell_type": "code",
   "execution_count": 16,
   "metadata": {
    "scrolled": false
   },
   "outputs": [],
   "source": [
    "# Training callbacks\n",
    "learning_rate_reduction = ReduceLROnPlateau(monitor='val_accuracy', patience = 2, verbose=1,factor=0.5, min_lr=0.00001)\n",
    "!rm -rf ./logs/ \n",
    "log_dir = \"logs/scalars/\" + datetime.datetime.now().strftime(\"%Y%m%d-%H%M%S\")\n",
    "tensorboard_callback = TensorBoard(log_dir=log_dir, histogram_freq=1)\n",
    "early_stopping_callback = EarlyStopping(monitor=\"val_loss\", patience=3)"
   ]
  },
  {
   "cell_type": "code",
   "execution_count": 17,
   "metadata": {
    "scrolled": true
   },
   "outputs": [
    {
     "name": "stdout",
     "output_type": "stream",
     "text": [
      "Epoch 1/20\n",
      "  1/161 [..............................] - ETA: 0s - loss: 3.1909 - accuracy: 0.0469WARNING:tensorflow:From /Users/welvin/Documents/Dev/linguist/env/lib/python3.6/site-packages/tensorflow/python/ops/summary_ops_v2.py:1277: stop (from tensorflow.python.eager.profiler) is deprecated and will be removed after 2020-07-01.\n",
      "Instructions for updating:\n",
      "use `tf.profiler.experimental.stop` instead.\n",
      "161/161 [==============================] - 15s 92ms/step - loss: 2.4258 - accuracy: 0.2648 - val_loss: 1.0774 - val_accuracy: 0.6656\n",
      "Epoch 2/20\n",
      "161/161 [==============================] - 15s 94ms/step - loss: 1.0312 - accuracy: 0.6602 - val_loss: 0.4294 - val_accuracy: 0.8770\n",
      "Epoch 3/20\n",
      "161/161 [==============================] - 16s 98ms/step - loss: 0.5704 - accuracy: 0.8076 - val_loss: 0.1691 - val_accuracy: 0.9490\n",
      "Epoch 4/20\n",
      "161/161 [==============================] - 15s 95ms/step - loss: 0.3403 - accuracy: 0.8864 - val_loss: 0.0863 - val_accuracy: 0.9796\n",
      "Epoch 5/20\n",
      "161/161 [==============================] - 15s 96ms/step - loss: 0.2426 - accuracy: 0.9196 - val_loss: 0.0659 - val_accuracy: 0.9844\n",
      "Epoch 6/20\n",
      "161/161 [==============================] - 15s 96ms/step - loss: 0.1774 - accuracy: 0.9420 - val_loss: 0.0364 - val_accuracy: 0.9913\n",
      "Epoch 7/20\n",
      "161/161 [==============================] - 17s 107ms/step - loss: 0.1432 - accuracy: 0.9520 - val_loss: 0.0216 - val_accuracy: 0.9955\n",
      "Epoch 8/20\n",
      "161/161 [==============================] - 15s 96ms/step - loss: 0.1219 - accuracy: 0.9599 - val_loss: 0.0162 - val_accuracy: 0.9953\n",
      "Epoch 9/20\n",
      "161/161 [==============================] - 16s 97ms/step - loss: 0.0959 - accuracy: 0.9682 - val_loss: 0.0145 - val_accuracy: 0.9965\n",
      "Epoch 10/20\n",
      "161/161 [==============================] - 16s 99ms/step - loss: 0.0774 - accuracy: 0.9740 - val_loss: 0.0096 - val_accuracy: 0.9974\n",
      "Epoch 11/20\n",
      "161/161 [==============================] - 15s 96ms/step - loss: 0.0681 - accuracy: 0.9785 - val_loss: 0.0071 - val_accuracy: 0.9985\n",
      "Epoch 12/20\n",
      "161/161 [==============================] - 16s 98ms/step - loss: 0.0674 - accuracy: 0.9782 - val_loss: 0.0048 - val_accuracy: 0.9993\n",
      "Epoch 13/20\n",
      "161/161 [==============================] - 16s 97ms/step - loss: 0.0557 - accuracy: 0.9818 - val_loss: 0.0046 - val_accuracy: 0.9996\n",
      "Epoch 14/20\n",
      "161/161 [==============================] - 17s 105ms/step - loss: 0.0514 - accuracy: 0.9831 - val_loss: 0.0025 - val_accuracy: 1.0000\n",
      "Epoch 15/20\n",
      "161/161 [==============================] - 16s 100ms/step - loss: 0.0430 - accuracy: 0.9859 - val_loss: 0.0123 - val_accuracy: 0.9972\n",
      "Epoch 16/20\n",
      "161/161 [==============================] - ETA: 0s - loss: 0.0499 - accuracy: 0.9833\n",
      "Epoch 00016: ReduceLROnPlateau reducing learning rate to 0.0005000000237487257.\n",
      "161/161 [==============================] - 16s 97ms/step - loss: 0.0499 - accuracy: 0.9833 - val_loss: 0.0018 - val_accuracy: 1.0000\n",
      "Epoch 17/20\n",
      "161/161 [==============================] - 16s 100ms/step - loss: 0.0271 - accuracy: 0.9916 - val_loss: 0.0013 - val_accuracy: 0.9997\n",
      "Epoch 18/20\n",
      "161/161 [==============================] - ETA: 0s - loss: 0.0199 - accuracy: 0.9932\n",
      "Epoch 00018: ReduceLROnPlateau reducing learning rate to 0.0002500000118743628.\n",
      "161/161 [==============================] - 16s 100ms/step - loss: 0.0199 - accuracy: 0.9932 - val_loss: 5.0217e-04 - val_accuracy: 1.0000\n",
      "Epoch 19/20\n",
      "161/161 [==============================] - 16s 100ms/step - loss: 0.0172 - accuracy: 0.9942 - val_loss: 6.5719e-04 - val_accuracy: 1.0000\n",
      "Epoch 20/20\n",
      "161/161 [==============================] - ETA: 0s - loss: 0.0161 - accuracy: 0.9952\n",
      "Epoch 00020: ReduceLROnPlateau reducing learning rate to 0.0001250000059371814.\n",
      "161/161 [==============================] - 16s 99ms/step - loss: 0.0161 - accuracy: 0.9952 - val_loss: 3.8665e-04 - val_accuracy: 1.0000\n"
     ]
    }
   ],
   "source": [
    "history = model.fit(\n",
    "        data_generator.flow(x_train,y_train, batch_size = 128) ,\n",
    "        epochs = 20 , \n",
    "        validation_data=(x_val, y_val),\n",
    "        callbacks = [learning_rate_reduction, early_stopping_callback, tensorboard_callback]\n",
    "        )"
   ]
  },
  {
   "cell_type": "code",
   "execution_count": 18,
   "metadata": {},
   "outputs": [
    {
     "name": "stdout",
     "output_type": "stream",
     "text": [
      "225/225 [==============================] - 1s 6ms/step - loss: 0.0281 - accuracy: 0.9969\n"
     ]
    },
    {
     "data": {
      "text/plain": [
       "[0.028148679062724113, 0.9969325065612793]"
      ]
     },
     "execution_count": 18,
     "metadata": {},
     "output_type": "execute_result"
    }
   ],
   "source": [
    "model.evaluate(x_test, y_test)"
   ]
  },
  {
   "cell_type": "code",
   "execution_count": 19,
   "metadata": {},
   "outputs": [],
   "source": [
    "model.save('model.h5')"
   ]
  },
  {
   "cell_type": "code",
   "execution_count": 20,
   "metadata": {},
   "outputs": [
    {
     "data": {
      "text/plain": [
       "{'loss': [2.4258432388305664,\n",
       "  1.0312449932098389,\n",
       "  0.5703982710838318,\n",
       "  0.34030500054359436,\n",
       "  0.2425725758075714,\n",
       "  0.1773630678653717,\n",
       "  0.14319095015525818,\n",
       "  0.12187296897172928,\n",
       "  0.09592675417661667,\n",
       "  0.07736266404390335,\n",
       "  0.06810779124498367,\n",
       "  0.06738723814487457,\n",
       "  0.055738043040037155,\n",
       "  0.051393188536167145,\n",
       "  0.043004997074604034,\n",
       "  0.04989513009786606,\n",
       "  0.027058757841587067,\n",
       "  0.019877007231116295,\n",
       "  0.017200754955410957,\n",
       "  0.01612524501979351],\n",
       " 'accuracy': [0.2647758722305298,\n",
       "  0.6601913571357727,\n",
       "  0.8075858354568481,\n",
       "  0.8863581418991089,\n",
       "  0.9195765256881714,\n",
       "  0.9419649243354797,\n",
       "  0.95196932554245,\n",
       "  0.9599339365959167,\n",
       "  0.9681900143623352,\n",
       "  0.9739692211151123,\n",
       "  0.9784857630729675,\n",
       "  0.9781943559646606,\n",
       "  0.981788158416748,\n",
       "  0.9830994009971619,\n",
       "  0.9859161972999573,\n",
       "  0.9833422303199768,\n",
       "  0.9916468262672424,\n",
       "  0.9932494759559631,\n",
       "  0.9942207932472229,\n",
       "  0.9952406287193298],\n",
       " 'val_loss': [1.0774157047271729,\n",
       "  0.4294396638870239,\n",
       "  0.16914303600788116,\n",
       "  0.08634141087532043,\n",
       "  0.06589777767658234,\n",
       "  0.03636154159903526,\n",
       "  0.021570753306150436,\n",
       "  0.016176845878362656,\n",
       "  0.014517651870846748,\n",
       "  0.009591422975063324,\n",
       "  0.007056651636958122,\n",
       "  0.004807290621101856,\n",
       "  0.004581721033900976,\n",
       "  0.0025480054318904877,\n",
       "  0.01227825228124857,\n",
       "  0.0017911362228915095,\n",
       "  0.0012870876817032695,\n",
       "  0.0005021738470532,\n",
       "  0.0006571859703399241,\n",
       "  0.0003866534971166402],\n",
       " 'val_accuracy': [0.6656468510627747,\n",
       "  0.8770396113395691,\n",
       "  0.9490092992782593,\n",
       "  0.9796037077903748,\n",
       "  0.9844114184379578,\n",
       "  0.9912587404251099,\n",
       "  0.9954836964607239,\n",
       "  0.9953380227088928,\n",
       "  0.996503472328186,\n",
       "  0.9973776340484619,\n",
       "  0.9985431432723999,\n",
       "  0.9992715716362,\n",
       "  0.9995629191398621,\n",
       "  1.0,\n",
       "  0.9972319602966309,\n",
       "  1.0,\n",
       "  0.9997086524963379,\n",
       "  1.0,\n",
       "  1.0,\n",
       "  1.0],\n",
       " 'lr': [0.001,\n",
       "  0.001,\n",
       "  0.001,\n",
       "  0.001,\n",
       "  0.001,\n",
       "  0.001,\n",
       "  0.001,\n",
       "  0.001,\n",
       "  0.001,\n",
       "  0.001,\n",
       "  0.001,\n",
       "  0.001,\n",
       "  0.001,\n",
       "  0.001,\n",
       "  0.001,\n",
       "  0.001,\n",
       "  0.0005,\n",
       "  0.0005,\n",
       "  0.00025,\n",
       "  0.00025]}"
      ]
     },
     "execution_count": 20,
     "metadata": {},
     "output_type": "execute_result"
    }
   ],
   "source": [
    "history.history"
   ]
  },
  {
   "cell_type": "code",
   "execution_count": null,
   "metadata": {},
   "outputs": [],
   "source": []
  }
 ],
 "metadata": {
  "kernelspec": {
   "display_name": "linguist",
   "language": "python",
   "name": "linguist"
  },
  "language_info": {
   "codemirror_mode": {
    "name": "ipython",
    "version": 3
   },
   "file_extension": ".py",
   "mimetype": "text/x-python",
   "name": "python",
   "nbconvert_exporter": "python",
   "pygments_lexer": "ipython3",
   "version": "3.6.8"
  }
 },
 "nbformat": 4,
 "nbformat_minor": 4
}
